{
 "cells": [
  {
   "cell_type": "markdown",
   "metadata": {},
   "source": [
    "# Query Construction: Text-to-cyper\n",
    "\n",
    "![text-to-cypher](../images/images-text-to-cypher.png)\n",
    "\n",
    "**Text-to-Cypher** is a technique that translates natural language queries into Cypher, the query language used for interacting with graph databases like Neo4j. This allows users to retrieve and manipulate data stored in graph structures without needing to write complex Cypher queries themselves.\n",
    "\n",
    "**How It Works:**\n",
    "\n",
    "1. **User Input:**\n",
    "   - The user poses a question or request in natural language.\n",
    "   - *Example:*\n",
    "     - \"Find all colleagues of John Doe who have worked on project X.\"\n",
    "\n",
    "2. **Natural Language Processing (NLP):**\n",
    "   - The system analyzes the input to understand its intent and identify key components like entities, relationships, and conditions.\n",
    "   - *Example Analysis:*\n",
    "     - Entity: John Doe\n",
    "     - Relationship: Colleagues\n",
    "     - Project: Project X\n",
    "\n",
    "3. **Cypher Query Generation:**\n",
    "   - Based on the analysis, the system constructs a Cypher query that reflects the user's request.\n",
    "   - *Generated Cypher Query:*\n",
    "     - ```cypher\n",
    "       MATCH (p:Person {name: 'John Doe'})-[:WORKED_ON]->(:Project {name: 'Project X'})<-[:WORKED_ON]-(colleague)\n",
    "       RETURN colleague.name;\n",
    "       ```\n",
    "\n",
    "4. **Execution and Results:**\n",
    "   - The Cypher query is executed against the graph database, and the results are returned to the user in an understandable format.\n",
    "   - *Example Output:*\n",
    "     - - Jane Smith\n",
    "     - - Bob Johnson\n",
    "\n",
    "**Benefits:**\n",
    "\n",
    "- **Accessibility:** Enables users without knowledge of Cypher to interact with graph databases.\n",
    "- **Efficiency:** Speeds up data retrieval by automating query formulation.\n",
    "- **User-Friendly:** Allows for intuitive interaction with complex data structures.\n",
    "\n",
    "**Advanced Applications:**\n",
    "\n",
    "- **Knowledge Graphs:** Facilitates querying of interconnected data in knowledge graphs, enhancing data exploration and discovery.\n",
    "- **Natural Language Interfaces:** Powers conversational agents and chatbots that provide insights from graph databases based on user queries.\n",
    "\n",
    "**Challenges:**\n",
    "\n",
    "- **Complex Queries:** Handling intricate queries involving multiple relationships and conditions requires sophisticated parsing and understanding.\n",
    "- **Ambiguity:** Interpreting ambiguous natural language inputs accurately demands advanced NLP capabilities.\n",
    "- **Schema Awareness:** The system must understand the database schema to generate correct and efficient Cypher queries.\n",
    "\n",
    "**Recent Advances:**\n",
    "\n",
    "Recent advancements have focused on improving the accuracy and efficiency of Text-to-Cypher systems:\n",
    "\n",
    "- **Large Language Models (LLMs):** Integrating LLMs into Text-to-Cypher systems has enhanced their ability to generate accurate Cypher queries from natural language inputs. \n",
    "\n",
    "- **Synthetic Data Generation:** Frameworks like SynthCypher have been developed to create synthetic datasets for training Text-to-Cypher models, addressing the scarcity of annotated data. \n",
    "\n",
    "**Example in Practice:**\n",
    "\n",
    "Imagine a researcher exploring a social network graph database who wants to find connections without writing Cypher queries. They can simply ask:\n",
    "\n",
    "- \"Who are the mutual friends of Alice and Bob?\"\n",
    "\n",
    "The system translates this into:\n",
    "\n",
    "- ```cypher\n",
    "  MATCH (a:Person {name: 'Alice'})-[:FRIEND]-(mutual)-[:FRIEND]-(b:Person {name: 'Bob'})\n",
    "  RETURN mutual.name;\n",
    "  ```\n",
    "\n",
    "This query retrieves the names of individuals who are friends with both Alice and Bob, providing the researcher with the desired information without requiring them to write Cypher code.\n",
    "\n",
    "By implementing Text-to-Cypher techniques, systems can make graph databases more accessible, allowing users to interact with complex data structures through simple natural language queries. \n",
    "\n",
    "## Setup"
   ]
  },
  {
   "cell_type": "code",
   "execution_count": 14,
   "metadata": {},
   "outputs": [],
   "source": [
    "%run \"../Z - Common/setup.ipynb\"\n",
    "\n",
    "!pip install -qU langgraph"
   ]
  },
  {
   "cell_type": "markdown",
   "metadata": {},
   "source": [
    "Text-to-cypher is a task in natural language processing (NLP) where the goal is to automatically generate graph queries from natural language text. Similar to text-to-sql the task involves converting the text input into a structured representation and then using this representation to generate a semantically correct SQL query that can be executed on a database.\n",
    "\n",
    "> **TODO!**: A text-to-cypher example will require Neo4j installing. Figure out simplest way to do this."
   ]
  }
 ],
 "metadata": {
  "kernelspec": {
   "display_name": "rag-techniques",
   "language": "python",
   "name": "python3"
  },
  "language_info": {
   "codemirror_mode": {
    "name": "ipython",
    "version": 3
   },
   "file_extension": ".py",
   "mimetype": "text/x-python",
   "name": "python",
   "nbconvert_exporter": "python",
   "pygments_lexer": "ipython3",
   "version": "3.11.11"
  }
 },
 "nbformat": 4,
 "nbformat_minor": 2
}
