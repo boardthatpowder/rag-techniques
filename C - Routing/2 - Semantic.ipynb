{
 "cells": [
  {
   "cell_type": "markdown",
   "metadata": {},
   "source": [
    "# Routing: Semantic\n",
    "\n",
    "![semantic routing](../images/images-semantic.png)\n",
    "\n",
    "**Semantic Routing** is a technique to direct queries to the most suitable data source or system based on the **meaning** or **context** of the query rather than relying on predefined rules or exact keywords. It leverages semantic understanding, often using embeddings or machine learning models, to analyze the intent behind a query and make intelligent routing decisions.\n",
    "\n",
    "### The Problem Semantic Routing Solves\n",
    "Sometimes, queries don’t fit neatly into predefined rules or contain exact keywords. They may:\n",
    "- Be phrased in unexpected ways.\n",
    "- Require interpretation of the context to understand their true intent.\n",
    "\n",
    "**Semantic Routing** solves this by focusing on the query's meaning rather than its surface structure, ensuring accurate routing even for ambiguous or unconventional queries.\n",
    "\n",
    "\n",
    "### How Semantic Routing Works\n",
    "1. **Understand the Query**:\n",
    "   - The system processes the query using a semantic analysis model (e.g., an embedding model like Sentence Transformers) to understand its meaning.\n",
    "   - Example:\n",
    "     - Query: \"How can I keep my web server safe from intrusions?\"\n",
    "     - Semantic Analysis: Identifies the query as related to cybersecurity, even though it doesn’t contain specific keywords like \"security\" or \"threats.\"\n",
    "\n",
    "2. **Match to Data Sources**:\n",
    "   - The query’s meaning is compared to embeddings of available data sources or categories.\n",
    "   - Example:\n",
    "     - A \"cybersecurity\" embedding in the knowledge base closely matches the query’s semantic meaning.\n",
    "\n",
    "3. **Route the Query**:\n",
    "   - The system directs the query to the most relevant data source or module based on the semantic match.\n",
    "\n",
    "### Simple Example\n",
    "#### Query:\n",
    "*\"What are good practices for protecting APIs?\"*\n",
    "\n",
    "#### Semantic Routing:\n",
    "1. **Semantic Understanding**:\n",
    "   - The system analyzes the query and identifies it as related to \"API security.\"\n",
    "2. **Match to Data Sources**:\n",
    "   - Compares the query's meaning to embeddings of knowledge bases like \"API development\" or \"cybersecurity.\"\n",
    "   - Finds that \"cybersecurity\" is the best match.\n",
    "3. **Route the Query**:\n",
    "   - Sends it to a cybersecurity knowledge base, even though the query doesn’t contain keywords like \"threats\" or \"attacks.\"\n",
    "\n",
    "### Why Semantic Routing Works\n",
    "- **Flexibility**: It adapts to different ways users phrase their queries.\n",
    "- **Context Awareness**: Captures the deeper intent and meaning of a query, not just surface keywords.\n",
    "- **Robustness**: Handles ambiguous or unconventional phrasing more effectively than logical routing.\n",
    "\n",
    "### Key Features of Semantic Routing\n",
    "- **Embeddings**: Uses vector representations of queries and knowledge categories for similarity matching.\n",
    "- **Intent Analysis**: Extracts the purpose of the query rather than relying on specific words.\n",
    "- **Context Sensitivity**: Understands nuanced meanings, even when queries lack explicit details.\n",
    "\n",
    "### Example Use Case\n",
    "In an enterprise search system:\n",
    "- Query: \"How do I secure cloud data?\"\n",
    "- Semantic Match: Recognizes this as related to \"cloud security,\" even though it doesn’t explicitly mention terms like \"encryption\" or \"firewalls.\"\n",
    "- Routing: Directs the query to a cloud security database.\n",
    "\n",
    "### Benefits of Semantic Routing\n",
    "- **Handles Complexity**: Routes ambiguous or context-dependent queries accurately.\n",
    "- **Supports Natural Language**: Works well with conversational or informal phrasing.\n",
    "- **Domain Independence**: Adapts to new domains without requiring extensive manual rule creation.\n",
    "\n",
    "In short, **Semantic Routing** is like reading between the lines of a query to understand its true intent, then guiding it to the right destination based on meaning rather than just matching words. It’s flexible, intelligent, and ideal for handling diverse user queries!\n",
    "\n",
    "## Setup"
   ]
  },
  {
   "cell_type": "code",
   "execution_count": 1,
   "metadata": {},
   "outputs": [
    {
     "name": "stdout",
     "output_type": "stream",
     "text": [
      "Stored 'enable_langsmith' (bool)\n"
     ]
    },
    {
     "name": "stderr",
     "output_type": "stream",
     "text": [
      "USER_AGENT environment variable not set, consider setting it to identify your requests.\n"
     ]
    }
   ],
   "source": [
    "%run \"../Z - Common/setup.ipynb\""
   ]
  },
  {
   "cell_type": "markdown",
   "metadata": {},
   "source": [
    "Semantic routing involves using embeddings to route a query to the most relevant prompt based on semantic similarity."
   ]
  },
  {
   "cell_type": "code",
   "execution_count": 2,
   "metadata": {},
   "outputs": [],
   "source": [
    "from langchain_core.output_parsers import StrOutputParser\n",
    "from langchain_core.runnables import RunnableLambda, RunnablePassthrough\n",
    "from langchain.utils.math import cosine_similarity\n",
    "from langchain.prompts import PromptTemplate\n",
    "\n",
    "# Two prompts\n",
    "template_physics = \"\"\"You are a very smart physics professor. \\\n",
    "You are great at answering questions about physics in a concise and easy to understand manner. \\\n",
    "When you don't know the answer to a question you admit that you don't know.\n",
    "\n",
    "Here is a question:\n",
    "{query}\"\"\"\n",
    "\n",
    "template_math = \"\"\"You are a very good mathematician. You are great at answering math questions. \\\n",
    "You are so good because you are able to break down hard problems into their component parts, \\\n",
    "answer the component parts, and then put them together to answer the broader question.\n",
    "\n",
    "Here is a question:\n",
    "{query}\"\"\"\n",
    "\n",
    "# Embed prompts\n",
    "templates = [template_physics, template_math]\n",
    "prompt_embeddings = embeddings.embed_documents(templates)\n",
    "\n",
    "# Route question to prompt \n",
    "def prompt_router(input):\n",
    "    # Embed question\n",
    "    query_embedding = embeddings.embed_query(input[\"query\"])\n",
    "    # Compute similarity\n",
    "    similarity = cosine_similarity([query_embedding], prompt_embeddings)[0]\n",
    "    most_similar = templates[similarity.argmax()]\n",
    "    # Chosen prompt \n",
    "    print(\"Using MATH\" if most_similar == template_math else \"Using PHYSICS\")\n",
    "    return PromptTemplate.from_template(most_similar)\n",
    "\n",
    "\n",
    "chain = (\n",
    "    {\"query\": RunnablePassthrough()}\n",
    "    | RunnableLambda(prompt_router)\n",
    "    | llm\n",
    "    | StrOutputParser()\n",
    ")"
   ]
  },
  {
   "cell_type": "code",
   "execution_count": 3,
   "metadata": {},
   "outputs": [
    {
     "name": "stdout",
     "output_type": "stream",
     "text": [
      "Using PHYSICS\n"
     ]
    },
    {
     "data": {
      "text/plain": [
       "\"A black hole is an extremely dense region in space where gravity is so strong that nothing, not even light, can escape from it once it passes a boundary called the event horizon.\\n\\nTo break it down simply:\\n1. It's created when massive stars die and collapse inward\\n2. Its gravitational pull is so intense that once anything crosses the event horizon, it cannot escape\\n3. We can't see black holes directly (since they don't emit light), but we can detect them by observing their effects on nearby matter\\n4. They can range in size from stellar-mass black holes (a few times the mass of our Sun) to supermassive black holes (millions or billions of times the mass of our Sun) that exist at the centers of most galaxies\\n\\nThink of it like a cosmic drain - anything that gets too close gets pulled in, and once it passes the point of no return (event horizon), it can't get back out.\""
      ]
     },
     "execution_count": 3,
     "metadata": {},
     "output_type": "execute_result"
    }
   ],
   "source": [
    "chain.invoke(\"What's a black hole\")"
   ]
  },
  {
   "cell_type": "code",
   "execution_count": 4,
   "metadata": {},
   "outputs": [
    {
     "name": "stdout",
     "output_type": "stream",
     "text": [
      "Using MATH\n"
     ]
    },
    {
     "data": {
      "text/plain": [
       "\"Let me solve this step by step.\\n\\n1) 10 to the power of 5 (written as 10⁵) means multiplying 10 by itself 5 times.\\n\\n2) Let's break it down:\\n   * 10 × 10 = 100 (first two multiplications)\\n   * 100 × 10 = 1,000 (third multiplication)\\n   * 1,000 × 10 = 10,000 (fourth multiplication)\\n   * 10,000 × 10 = 100,000 (fifth multiplication)\\n\\nTherefore, 10⁵ = 100,000\\n\\nAnother way to think about this is that 10⁵ means adding 5 zeros after 1.\""
      ]
     },
     "execution_count": 4,
     "metadata": {},
     "output_type": "execute_result"
    }
   ],
   "source": [
    "chain.invoke(\"What is 10 to the power of 5?\")"
   ]
  },
  {
   "cell_type": "code",
   "execution_count": null,
   "metadata": {},
   "outputs": [],
   "source": []
  }
 ],
 "metadata": {
  "kernelspec": {
   "display_name": "rag-techniques",
   "language": "python",
   "name": "python3"
  },
  "language_info": {
   "codemirror_mode": {
    "name": "ipython",
    "version": 3
   },
   "file_extension": ".py",
   "mimetype": "text/x-python",
   "name": "python",
   "nbconvert_exporter": "python",
   "pygments_lexer": "ipython3",
   "version": "3.11.11"
  }
 },
 "nbformat": 4,
 "nbformat_minor": 2
}
