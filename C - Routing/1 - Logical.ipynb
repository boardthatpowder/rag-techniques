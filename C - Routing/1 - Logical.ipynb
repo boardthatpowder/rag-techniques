{
 "cells": [
  {
   "cell_type": "markdown",
   "metadata": {},
   "source": [
    "# Routing: Logical\n",
    "\n",
    "![logical routing](../images/images-logical.png)\n",
    "\n",
    "**Logical Routing** is a technique to direct queries to the most suitable data source or system based on predefined rules or conditions. It relies on **explicit criteria**, like keywords, query patterns, or metadata, to decide where a query should go.\n",
    "\n",
    "### The Problem Logical Routing Solves\n",
    "Not all queries are the same, and different types of questions may require information from different sources. Logical routing ensures that:\n",
    "- Queries are handled by the most relevant system or data source.\n",
    "- Simple rules can efficiently filter and guide queries without needing complex computations.\n",
    "\n",
    "### How Logical Routing Works\n",
    "1. **Define Rules**:\n",
    "   - Rules are set up in advance to match specific query features to a corresponding destination.\n",
    "   - Example:\n",
    "     - Queries containing the word \"Python\" go to a database on programming languages.\n",
    "     - Queries asking about \"health\" go to a medical knowledge base.\n",
    "\n",
    "2. **Evaluate the Query**:\n",
    "   - The system analyzes the query based on the predefined rules.\n",
    "   - Example:\n",
    "     - Rule: \"If the query contains the keyword 'tax,' route it to the financial data source.\"\n",
    "\n",
    "3. **Route the Query**:\n",
    "   - Based on the rule evaluation, the query is sent to the appropriate data source or processing system.\n",
    "\n",
    "### Simple Example\n",
    "#### Query:\n",
    "*\"What are the top frameworks for Python development?\"*\n",
    "\n",
    "#### Logical Routing:\n",
    "1. **Keyword Detection**:\n",
    "   - The rule detects the keyword \"Python.\"\n",
    "2. **Apply Rule**:\n",
    "   - Match: \"Route to the programming frameworks database.\"\n",
    "3. **Retrieve and Respond**:\n",
    "   - The system retrieves relevant Python frameworks like Django, Flask, and FastAPI.\n",
    "\n",
    "### Why Logical Routing Works\n",
    "- **Efficiency**: Simple rules process queries quickly without the need for heavy computation.\n",
    "- **Clarity**: The rules are explicit and easy to understand or modify.\n",
    "- **Effectiveness**: Works well when query intent is clear and matches predefined categories.\n",
    "\n",
    "### Key Features of Logical Routing\n",
    "- **Keyword Matching**: Direct routing based on specific words or phrases in the query.\n",
    "- **Pattern Recognition**: Use of patterns like question formats (e.g., \"What is...\" or \"How to...\").\n",
    "- **Metadata Analysis**: Routing based on additional query data like user preferences or query source.\n",
    "\n",
    "### Example Use Case\n",
    "In a customer support system:\n",
    "- **Rule 1**: Queries with the keyword \"billing\" are routed to the finance team.\n",
    "- **Rule 2**: Queries with \"password reset\" go to the IT support database.\n",
    "- **Rule 3**: Queries mentioning \"shipping\" are directed to the logistics department.\n",
    "\n",
    "### Benefits of Logical Routing\n",
    "- **Simplicity**: Easy to implement and maintain.\n",
    "- **Speed**: No need for complex models or processing steps.\n",
    "- **Predictability**: The routing behavior is transparent and consistent.\n",
    "\n",
    "In short, **Logical Routing** is like a decision tree for queries: if a query fits a certain rule, it’s sent down the right path. It’s simple, fast, and works well when the rules are clear and the query categories are well-defined!\n",
    "\n",
    "![logical routing](../images/logical_routing.png)\n",
    "\n",
    "## Setup"
   ]
  },
  {
   "cell_type": "code",
   "execution_count": 1,
   "metadata": {},
   "outputs": [
    {
     "name": "stdout",
     "output_type": "stream",
     "text": [
      "Stored 'enable_langsmith' (bool)\n"
     ]
    },
    {
     "name": "stderr",
     "output_type": "stream",
     "text": [
      "USER_AGENT environment variable not set, consider setting it to identify your requests.\n"
     ]
    }
   ],
   "source": [
    "%run \"../Z - Common/setup.ipynb\""
   ]
  },
  {
   "cell_type": "markdown",
   "metadata": {},
   "source": [
    "Let's start by building a prompt and chain to route."
   ]
  },
  {
   "cell_type": "code",
   "execution_count": 2,
   "metadata": {},
   "outputs": [],
   "source": [
    "from langchain.prompts import ChatPromptTemplate\n",
    "from pydantic import BaseModel, Field\n",
    "from typing import Literal\n",
    "\n",
    "# Data model\n",
    "class RouteQuery(BaseModel):\n",
    "    \"\"\"Route a user query to the most relevant datasource.\"\"\"\n",
    "\n",
    "    datasource: Literal[\"python_docs\", \"js_docs\", \"golang_docs\"] = Field(\n",
    "        ...,\n",
    "        description=\"Given a user question choose which datasource would be most relevant for answering their question\",\n",
    "    )\n",
    "\n",
    "# LLM with function call \n",
    "# Structured Outputs is a feature that ensures the model will always generate responses that adhere to your supplied JSON Schema, \n",
    "# so you don't need to worry about the model omitting a required key, or hallucinating an invalid enum value.\n",
    "structured_llm = llm.with_structured_output(RouteQuery)\n",
    "\n",
    "# Prompt \n",
    "template = \"\"\"You are an expert at routing a user question to the appropriate data source.\n",
    "\n",
    "Based on the programming language the question is referring to, route it to the relevant data source.\"\"\"\n",
    "\n",
    "prompt_router = ChatPromptTemplate.from_messages(\n",
    "    [\n",
    "        (\"system\", template),\n",
    "        (\"human\", \"{question}\"),\n",
    "    ]\n",
    ")\n",
    "\n",
    "# Define router \n",
    "chain_router = prompt_router | structured_llm"
   ]
  },
  {
   "cell_type": "code",
   "execution_count": 3,
   "metadata": {},
   "outputs": [
    {
     "data": {
      "text/plain": [
       "RouteQuery(datasource='python_docs')"
      ]
     },
     "execution_count": 3,
     "metadata": {},
     "output_type": "execute_result"
    }
   ],
   "source": [
    "question = \"\"\"Why doesn't the following code work:\n",
    "\n",
    "from langchain_core.prompts import ChatPromptTemplate\n",
    "\n",
    "prompt = ChatPromptTemplate.from_messages([\"human\", \"speak in {language}\"])\n",
    "prompt.invoke(\"french\")\n",
    "\"\"\"\n",
    "\n",
    "result = chain_router.invoke({\"question\": question})\n",
    "result"
   ]
  },
  {
   "cell_type": "markdown",
   "metadata": {},
   "source": [
    "We can then use a [custom function to route between different sub chains](https://python.langchain.com/docs/how_to/routing/#using-a-custom-function-recommended) based on the response."
   ]
  },
  {
   "cell_type": "code",
   "execution_count": 4,
   "metadata": {},
   "outputs": [],
   "source": [
    "from langchain_core.runnables import RunnableLambda\n",
    "\n",
    "def choose_route(result):\n",
    "    if \"python_docs\" in result.datasource.lower():\n",
    "        ### Logic here \n",
    "        return \"chain for python_docs\"\n",
    "    elif \"js_docs\" in result.datasource.lower():\n",
    "        ### Logic here \n",
    "        return \"chain for js_docs\"\n",
    "    else:\n",
    "        ### Logic here \n",
    "        return \"golang_docs\"\n",
    "\n",
    "\n",
    "chain = chain_router | RunnableLambda(choose_route)"
   ]
  },
  {
   "cell_type": "code",
   "execution_count": 5,
   "metadata": {},
   "outputs": [
    {
     "data": {
      "text/plain": [
       "'chain for python_docs'"
      ]
     },
     "execution_count": 5,
     "metadata": {},
     "output_type": "execute_result"
    }
   ],
   "source": [
    "chain.invoke({\"question\": question})"
   ]
  },
  {
   "cell_type": "code",
   "execution_count": null,
   "metadata": {},
   "outputs": [],
   "source": []
  }
 ],
 "metadata": {
  "kernelspec": {
   "display_name": "rag-techniques",
   "language": "python",
   "name": "python3"
  },
  "language_info": {
   "codemirror_mode": {
    "name": "ipython",
    "version": 3
   },
   "file_extension": ".py",
   "mimetype": "text/x-python",
   "name": "python",
   "nbconvert_exporter": "python",
   "pygments_lexer": "ipython3",
   "version": "3.11.11"
  }
 },
 "nbformat": 4,
 "nbformat_minor": 2
}
