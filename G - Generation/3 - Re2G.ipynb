{
 "cells": [
  {
   "cell_type": "markdown",
   "metadata": {},
   "source": [
    "# Retrieve-Rerank-Generate (Re2G)\n",
    "\n",
    "![RRR](../images/images-Re2G.png)\n",
    "\n",
    "\n",
    "References:\n",
    "\n",
    "- [Re2G: Retrieve, Rerank, Generate](https://aclanthology.org/2022.naacl-main.194/)"
   ]
  },
  {
   "cell_type": "markdown",
   "metadata": {},
   "source": [
    "> **TODO** Implement"
   ]
  },
  {
   "cell_type": "markdown",
   "metadata": {},
   "source": []
  }
 ],
 "metadata": {
  "language_info": {
   "name": "python"
  }
 },
 "nbformat": 4,
 "nbformat_minor": 2
}
